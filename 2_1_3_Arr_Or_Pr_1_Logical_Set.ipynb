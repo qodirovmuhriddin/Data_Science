{
  "nbformat": 4,
  "nbformat_minor": 0,
  "metadata": {
    "colab": {
      "provenance": [],
      "authorship_tag": "ABX9TyOq+16K2qLuTm0uQzSAhBje",
      "include_colab_link": true
    },
    "kernelspec": {
      "name": "python3",
      "display_name": "Python 3"
    },
    "language_info": {
      "name": "python"
    }
  },
  "cells": [
    {
      "cell_type": "markdown",
      "metadata": {
        "id": "view-in-github",
        "colab_type": "text"
      },
      "source": [
        "<a href=\"https://colab.research.google.com/github/qodirovmuhriddin/Data_Science/blob/main/2_1_3_Arr_Or_Pr_1_Logical_Set.ipynb\" target=\"_parent\"><img src=\"https://colab.research.google.com/assets/colab-badge.svg\" alt=\"Open In Colab\"/></a>"
      ]
    },
    {
      "cell_type": "markdown",
      "source": [
        "#**Ma'lumotlar tahlili**\n"
      ],
      "metadata": {
        "id": "jTwifEvvG1lk"
      }
    },
    {
      "cell_type": "markdown",
      "source": [
        "#NumPy kutubxonasi bilan ishlash"
      ],
      "metadata": {
        "id": "ufGNmb4RHGZA"
      }
    },
    {
      "cell_type": "code",
      "execution_count": null,
      "metadata": {
        "id": "vriLFS65GTqj"
      },
      "outputs": [],
      "source": [
        "import numpy as np"
      ]
    },
    {
      "cell_type": "markdown",
      "source": [
        "2.1.3 Massivga yo'naltirilgan dasturlash "
      ],
      "metadata": {
        "id": "e92MtOppHZYt"
      }
    },
    {
      "cell_type": "markdown",
      "source": [
        "#Mantiqiy shart operatorlarini massiv operatori sifatida qo'llash "
      ],
      "metadata": {
        "id": "pwuElGLaHjvK"
      }
    },
    {
      "cell_type": "markdown",
      "source": [
        "Shart operatorlari sifatida `where` dan foydalanish"
      ],
      "metadata": {
        "id": "Hmk6MvdqHybg"
      }
    },
    {
      "cell_type": "markdown",
      "source": [
        "Tassavur qiling bizda 2ta ma'lumotlar(massivlar) mavjud bular: `xarr` , `yarr`. agarda shart `True`ni qanoatlantirsa `xarr` elementini qabul qilgan va aksincha `yarr` elementini qabul qilgan yangi massiv hosil qilinsin."
      ],
      "metadata": {
        "id": "TTkkVkNFH8wZ"
      }
    },
    {
      "cell_type": "code",
      "source": [
        "#Massivlar\n",
        "xarr=np.array([1.1, 1.2, 1.3, 1.4, 1.5]) #xarr\n",
        "yarr= np.array([2.1, 2.2, 2.3, 2.4, 2.5]) #yarr"
      ],
      "metadata": {
        "id": "oeSDY0siI8BY"
      },
      "execution_count": null,
      "outputs": []
    },
    {
      "cell_type": "code",
      "source": [
        "#shart\n",
        "cond = np.array([True, False, True, True, False])"
      ],
      "metadata": {
        "id": "04nR-gbVJyW1"
      },
      "execution_count": null,
      "outputs": []
    },
    {
      "cell_type": "code",
      "source": [
        "#where\n",
        "result = np.where(cond, xarr, yarr) \n",
        "result"
      ],
      "metadata": {
        "colab": {
          "base_uri": "https://localhost:8080/"
        },
        "id": "0zuPioKGLeeF",
        "outputId": "a06bf49b-ea35-4bed-b7e5-23b7ecaa5a2c"
      },
      "execution_count": null,
      "outputs": [
        {
          "output_type": "execute_result",
          "data": {
            "text/plain": [
              "array([1.1, 2.2, 1.3, 1.4, 2.5])"
            ]
          },
          "metadata": {},
          "execution_count": 44
        }
      ]
    },
    {
      "cell_type": "code",
      "source": [
        "arr=np.random.randn(4, 4) #(4, 4) Taxminiy massiv\n",
        "arr"
      ],
      "metadata": {
        "colab": {
          "base_uri": "https://localhost:8080/"
        },
        "id": "lpnyxrgzMH6y",
        "outputId": "f8eb4669-c60e-4858-f364-494e94e634fc"
      },
      "execution_count": null,
      "outputs": [
        {
          "output_type": "execute_result",
          "data": {
            "text/plain": [
              "array([[ 1.49247591, -0.46026008, -1.58159576, -1.20297002],\n",
              "       [ 0.24557476, -1.46420528, -0.60084069,  2.05590895],\n",
              "       [ 0.37740972,  0.14641077, -1.00733322, -0.40083767],\n",
              "       [ 1.02631697, -0.70967433,  0.41446421, -2.33088735]])"
            ]
          },
          "metadata": {},
          "execution_count": 48
        }
      ]
    },
    {
      "cell_type": "code",
      "source": [
        "#Where\n",
        "results =np.where(arr<0, -2, 2 )  # arr ning manfiy elementlari -2 ga musbat elementlari esa 2 ga almashtirish\n",
        "results"
      ],
      "metadata": {
        "colab": {
          "base_uri": "https://localhost:8080/"
        },
        "id": "wVhvTKCvYJHN",
        "outputId": "88ea4894-b2b2-4111-9034-d656efa5e0e2"
      },
      "execution_count": null,
      "outputs": [
        {
          "output_type": "execute_result",
          "data": {
            "text/plain": [
              "array([[ 2, -2, -2, -2],\n",
              "       [ 2, -2, -2,  2],\n",
              "       [ 2,  2, -2, -2],\n",
              "       [ 2, -2,  2, -2]])"
            ]
          },
          "metadata": {},
          "execution_count": 50
        }
      ]
    },
    {
      "cell_type": "code",
      "source": [],
      "metadata": {
        "id": "iG7aYvw4Yqno"
      },
      "execution_count": null,
      "outputs": []
    }
  ]
}