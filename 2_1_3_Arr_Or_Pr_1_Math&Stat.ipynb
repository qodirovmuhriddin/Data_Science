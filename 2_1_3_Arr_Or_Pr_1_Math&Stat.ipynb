{
  "nbformat": 4,
  "nbformat_minor": 0,
  "metadata": {
    "colab": {
      "provenance": [],
      "authorship_tag": "ABX9TyNYxFFxGUwo5/+5uvET1F8m",
      "include_colab_link": true
    },
    "kernelspec": {
      "name": "python3",
      "display_name": "Python 3"
    },
    "language_info": {
      "name": "python"
    }
  },
  "cells": [
    {
      "cell_type": "markdown",
      "metadata": {
        "id": "view-in-github",
        "colab_type": "text"
      },
      "source": [
        "<a href=\"https://colab.research.google.com/github/qodirovmuhriddin/Data_Science/blob/main/2_1_3_Arr_Or_Pr_1_Math%26Stat.ipynb\" target=\"_parent\"><img src=\"https://colab.research.google.com/assets/colab-badge.svg\" alt=\"Open In Colab\"/></a>"
      ]
    },
    {
      "cell_type": "markdown",
      "source": [
        "#**Data Science va Sun'iy intellekt Praktikum**\n",
        "Ma'lumotlar tahlili\n",
        "#2.1. Numpy kutubxonasini chiqarib olish"
      ],
      "metadata": {
        "id": "Ra_Z_FY297lC"
      }
    },
    {
      "cell_type": "code",
      "execution_count": 1,
      "metadata": {
        "id": "prQfnbX450Uo"
      },
      "outputs": [],
      "source": [
        "import numpy as np"
      ]
    },
    {
      "cell_type": "markdown",
      "source": [
        "#Massivga yo'naltirilgan dasturlash"
      ],
      "metadata": {
        "id": "kpgDvj8D-imr"
      }
    },
    {
      "cell_type": "markdown",
      "source": [
        "Matematik va Statistik usullarni qo'llash"
      ],
      "metadata": {
        "id": "6irksnpC-2vw"
      }
    },
    {
      "cell_type": "code",
      "source": [
        "arr = np.random.randn(5, 4) # (5, 4) o'lchovli massiv(random)\n",
        "arr"
      ],
      "metadata": {
        "colab": {
          "base_uri": "https://localhost:8080/"
        },
        "id": "qhxcudx4C1DB",
        "outputId": "f11d89fc-2f91-4c6b-8baf-89ac6716146b"
      },
      "execution_count": 3,
      "outputs": [
        {
          "output_type": "execute_result",
          "data": {
            "text/plain": [
              "array([[-0.03785621,  2.62141299, -1.23509531,  1.67527942],\n",
              "       [-0.58188294, -0.80646885, -1.25407452, -0.2809117 ],\n",
              "       [ 0.58918982,  1.38733499,  0.73690039,  1.27485525],\n",
              "       [-1.79698353,  0.29601085, -0.87373448,  0.78407431],\n",
              "       [ 1.24364796, -2.58499235, -0.14619036,  0.79662313]])"
            ]
          },
          "metadata": {},
          "execution_count": 3
        }
      ]
    },
    {
      "cell_type": "markdown",
      "source": [
        "`sum` methodi"
      ],
      "metadata": {
        "id": "CaVjkZSeDNDp"
      }
    },
    {
      "cell_type": "code",
      "source": [
        "arr.sum()  # arr barcha elementlarini yig'indisini hisoblab beradi"
      ],
      "metadata": {
        "colab": {
          "base_uri": "https://localhost:8080/"
        },
        "id": "BYje79SKDHSL",
        "outputId": "825b6cf8-9fcb-407e-8e64-103606673adb"
      },
      "execution_count": 4,
      "outputs": [
        {
          "output_type": "execute_result",
          "data": {
            "text/plain": [
              "1.807138865721154"
            ]
          },
          "metadata": {},
          "execution_count": 4
        }
      ]
    },
    {
      "cell_type": "code",
      "source": [
        "#ikkinchi usul\n",
        "np.sum(arr)"
      ],
      "metadata": {
        "colab": {
          "base_uri": "https://localhost:8080/"
        },
        "id": "aR3EYi73Dnr_",
        "outputId": "2bb1121d-c3f7-4cd5-c1f9-970efb26b9a5"
      },
      "execution_count": 5,
      "outputs": [
        {
          "output_type": "execute_result",
          "data": {
            "text/plain": [
              "1.807138865721154"
            ]
          },
          "metadata": {},
          "execution_count": 5
        }
      ]
    },
    {
      "cell_type": "code",
      "source": [
        "arr.sum(axis=1) # qator yig'indi"
      ],
      "metadata": {
        "colab": {
          "base_uri": "https://localhost:8080/"
        },
        "id": "0LLafTD1DrpW",
        "outputId": "29f03a03-35a9-4b37-dfe5-891b9d453a87"
      },
      "execution_count": 6,
      "outputs": [
        {
          "output_type": "execute_result",
          "data": {
            "text/plain": [
              "array([ 3.0237409 , -2.92333801,  3.98828045, -1.59063285, -0.69091162])"
            ]
          },
          "metadata": {},
          "execution_count": 6
        }
      ]
    },
    {
      "cell_type": "code",
      "source": [
        "arr.sum(axis=0) # ustun yig'indi"
      ],
      "metadata": {
        "colab": {
          "base_uri": "https://localhost:8080/"
        },
        "id": "5feQcXXFEkeg",
        "outputId": "065a56d8-393e-49c0-a7dd-a9091606b5d4"
      },
      "execution_count": 7,
      "outputs": [
        {
          "output_type": "execute_result",
          "data": {
            "text/plain": [
              "array([-0.58388491,  0.91329764, -2.77219427,  4.2499204 ])"
            ]
          },
          "metadata": {},
          "execution_count": 7
        }
      ]
    },
    {
      "cell_type": "code",
      "source": [],
      "metadata": {
        "id": "wdtAGdDREqXt"
      },
      "execution_count": null,
      "outputs": []
    },
    {
      "cell_type": "markdown",
      "source": [
        "`mean` methodi "
      ],
      "metadata": {
        "id": "JA-SmJXVFOMK"
      }
    },
    {
      "cell_type": "code",
      "source": [
        "data = np.arange(6) \n",
        "data"
      ],
      "metadata": {
        "colab": {
          "base_uri": "https://localhost:8080/"
        },
        "id": "068bqZSUFQnr",
        "outputId": "a8738068-0aec-48af-c842-03686a667abc"
      },
      "execution_count": 9,
      "outputs": [
        {
          "output_type": "execute_result",
          "data": {
            "text/plain": [
              "array([0, 1, 2, 3, 4, 5])"
            ]
          },
          "metadata": {},
          "execution_count": 9
        }
      ]
    },
    {
      "cell_type": "code",
      "source": [
        "mean = np.sum(data)/len(data)\n",
        "mean"
      ],
      "metadata": {
        "colab": {
          "base_uri": "https://localhost:8080/"
        },
        "id": "6hAFAsqpFeBn",
        "outputId": "eeadf770-9f72-45f5-e1b6-74b0842c47eb"
      },
      "execution_count": 10,
      "outputs": [
        {
          "output_type": "execute_result",
          "data": {
            "text/plain": [
              "2.5"
            ]
          },
          "metadata": {},
          "execution_count": 10
        }
      ]
    },
    {
      "cell_type": "markdown",
      "source": [
        "`numpy` mean "
      ],
      "metadata": {
        "id": "CyDbueFZFvGU"
      }
    },
    {
      "cell_type": "code",
      "source": [
        "np.mean(data)"
      ],
      "metadata": {
        "colab": {
          "base_uri": "https://localhost:8080/"
        },
        "id": "9_5NYieAFtAr",
        "outputId": "621cb35d-b3be-48b3-f1f8-157e7efec5bd"
      },
      "execution_count": 12,
      "outputs": [
        {
          "output_type": "execute_result",
          "data": {
            "text/plain": [
              "2.5"
            ]
          },
          "metadata": {},
          "execution_count": 12
        }
      ]
    },
    {
      "cell_type": "code",
      "source": [
        "data.mean()"
      ],
      "metadata": {
        "colab": {
          "base_uri": "https://localhost:8080/"
        },
        "id": "l_JNLRIJF0wm",
        "outputId": "2f8a50de-25d3-4bab-bfa3-caf64c15ba2f"
      },
      "execution_count": 13,
      "outputs": [
        {
          "output_type": "execute_result",
          "data": {
            "text/plain": [
              "2.5"
            ]
          },
          "metadata": {},
          "execution_count": 13
        }
      ]
    },
    {
      "cell_type": "code",
      "source": [
        "arr"
      ],
      "metadata": {
        "colab": {
          "base_uri": "https://localhost:8080/"
        },
        "id": "oYLNc0NFF-W0",
        "outputId": "f2cf40bb-994b-4730-edfb-296ce695f79b"
      },
      "execution_count": 14,
      "outputs": [
        {
          "output_type": "execute_result",
          "data": {
            "text/plain": [
              "array([[-0.03785621,  2.62141299, -1.23509531,  1.67527942],\n",
              "       [-0.58188294, -0.80646885, -1.25407452, -0.2809117 ],\n",
              "       [ 0.58918982,  1.38733499,  0.73690039,  1.27485525],\n",
              "       [-1.79698353,  0.29601085, -0.87373448,  0.78407431],\n",
              "       [ 1.24364796, -2.58499235, -0.14619036,  0.79662313]])"
            ]
          },
          "metadata": {},
          "execution_count": 14
        }
      ]
    },
    {
      "cell_type": "code",
      "source": [
        "np.mean(arr) # arr o'rtacha qiymati "
      ],
      "metadata": {
        "colab": {
          "base_uri": "https://localhost:8080/"
        },
        "id": "7ZLJw1GtGBNf",
        "outputId": "1cd4f9b8-95ae-414a-f7d7-53b4b63a5a54"
      },
      "execution_count": 15,
      "outputs": [
        {
          "output_type": "execute_result",
          "data": {
            "text/plain": [
              "0.0903569432860577"
            ]
          },
          "metadata": {},
          "execution_count": 15
        }
      ]
    },
    {
      "cell_type": "code",
      "source": [
        "#ikkinchi usul\n",
        "arr.mean()"
      ],
      "metadata": {
        "colab": {
          "base_uri": "https://localhost:8080/"
        },
        "id": "3kZjHhYiGOXI",
        "outputId": "9a967dcf-b943-42f1-b5ad-1d9777cf034e"
      },
      "execution_count": 17,
      "outputs": [
        {
          "output_type": "execute_result",
          "data": {
            "text/plain": [
              "0.0903569432860577"
            ]
          },
          "metadata": {},
          "execution_count": 17
        }
      ]
    },
    {
      "cell_type": "code",
      "source": [
        "np.mean(arr, axis=1) # qator bo'yicha o'rtacha qiymat qaytaradi"
      ],
      "metadata": {
        "colab": {
          "base_uri": "https://localhost:8080/"
        },
        "id": "06tV7U14GTSV",
        "outputId": "0eb91d68-33f1-4a18-ee30-77f29a3aeb1c"
      },
      "execution_count": 18,
      "outputs": [
        {
          "output_type": "execute_result",
          "data": {
            "text/plain": [
              "array([ 0.75593522, -0.7308345 ,  0.99707011, -0.39765821, -0.1727279 ])"
            ]
          },
          "metadata": {},
          "execution_count": 18
        }
      ]
    },
    {
      "cell_type": "code",
      "source": [
        "arr.mean(axis=0)"
      ],
      "metadata": {
        "colab": {
          "base_uri": "https://localhost:8080/"
        },
        "id": "UZqksdHxGvRZ",
        "outputId": "16d75560-d07d-496a-a4a9-ce38a81ba817"
      },
      "execution_count": 19,
      "outputs": [
        {
          "output_type": "execute_result",
          "data": {
            "text/plain": [
              "array([-0.11677698,  0.18265953, -0.55443885,  0.84998408])"
            ]
          },
          "metadata": {},
          "execution_count": 19
        }
      ]
    },
    {
      "cell_type": "code",
      "source": [
        "arr2 = np.arange(11)"
      ],
      "metadata": {
        "id": "G0Ia8kgfHGEs"
      },
      "execution_count": 20,
      "outputs": []
    },
    {
      "cell_type": "code",
      "source": [
        "arr2.mean()"
      ],
      "metadata": {
        "colab": {
          "base_uri": "https://localhost:8080/"
        },
        "id": "xgYdmEDFHMx-",
        "outputId": "6e7ea235-27df-4559-89a4-6c84624c9dd7"
      },
      "execution_count": 21,
      "outputs": [
        {
          "output_type": "execute_result",
          "data": {
            "text/plain": [
              "5.0"
            ]
          },
          "metadata": {},
          "execution_count": 21
        }
      ]
    },
    {
      "cell_type": "code",
      "source": [
        "data"
      ],
      "metadata": {
        "colab": {
          "base_uri": "https://localhost:8080/"
        },
        "id": "NlTXRm0AHST3",
        "outputId": "032a3784-877f-466e-c42b-1731cfb2e52c"
      },
      "execution_count": 22,
      "outputs": [
        {
          "output_type": "execute_result",
          "data": {
            "text/plain": [
              "array([0, 1, 2, 3, 4, 5])"
            ]
          },
          "metadata": {},
          "execution_count": 22
        }
      ]
    },
    {
      "cell_type": "markdown",
      "source": [
        "`cumsum` methodi"
      ],
      "metadata": {
        "id": "nRCJis61HbQI"
      }
    },
    {
      "cell_type": "code",
      "source": [
        "data.cumsum()"
      ],
      "metadata": {
        "colab": {
          "base_uri": "https://localhost:8080/"
        },
        "id": "dJimH8yFHdby",
        "outputId": "79886e7e-5a6e-4e37-d6a2-6d2aca5e939a"
      },
      "execution_count": 23,
      "outputs": [
        {
          "output_type": "execute_result",
          "data": {
            "text/plain": [
              "array([ 0,  1,  3,  6, 10, 15])"
            ]
          },
          "metadata": {},
          "execution_count": 23
        }
      ]
    }
  ]
}