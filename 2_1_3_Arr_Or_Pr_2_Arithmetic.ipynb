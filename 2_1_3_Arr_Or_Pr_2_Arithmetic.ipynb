{
  "nbformat": 4,
  "nbformat_minor": 0,
  "metadata": {
    "colab": {
      "provenance": [],
      "authorship_tag": "ABX9TyN03SUSo98B/PPDaGODb8xi",
      "include_colab_link": true
    },
    "kernelspec": {
      "name": "python3",
      "display_name": "Python 3"
    },
    "language_info": {
      "name": "python"
    }
  },
  "cells": [
    {
      "cell_type": "markdown",
      "metadata": {
        "id": "view-in-github",
        "colab_type": "text"
      },
      "source": [
        "<a href=\"https://colab.research.google.com/github/qodirovmuhriddin/Data_Science/blob/main/2_1_3_Arr_Or_Pr_2_Arithmetic.ipynb\" target=\"_parent\"><img src=\"https://colab.research.google.com/assets/colab-badge.svg\" alt=\"Open In Colab\"/></a>"
      ]
    },
    {
      "cell_type": "code",
      "execution_count": null,
      "metadata": {
        "id": "lDi5Mp2bbsrx"
      },
      "outputs": [],
      "source": []
    },
    {
      "cell_type": "markdown",
      "source": [
        "#**Data Science va Sun'iy intellekt praktikum**\n",
        "Ma'lumotlar tahlili\n",
        "#Numpy kutubxonasi bilan ishlash"
      ],
      "metadata": {
        "id": "UjQpXCLLhwfk"
      }
    },
    {
      "cell_type": "code",
      "source": [
        "import numpy as np"
      ],
      "metadata": {
        "id": "RXem-f3Dh6_Z"
      },
      "execution_count": 1,
      "outputs": []
    },
    {
      "cell_type": "markdown",
      "source": [
        "Massivga yo'naltirilgan dasturlash"
      ],
      "metadata": {
        "id": "0zswt4A3iOrz"
      }
    },
    {
      "cell_type": "markdown",
      "source": [
        "#Arifmetik Amallar"
      ],
      "metadata": {
        "id": "OxEjA9mhiWB-"
      }
    },
    {
      "cell_type": "code",
      "source": [
        "#data\n",
        "arr1 = np.arange(6).reshape(2, 3) #0~6 gacha bo'lgan elementlardan tashkil topgan array\n",
        "arr2 = np.arange(6, 12).reshape(2, 3) #0~12 gacha bo'lgan elementlardan tashkil topgan array"
      ],
      "metadata": {
        "colab": {
          "base_uri": "https://localhost:8080/"
        },
        "id": "qMKNqII3iM1m",
        "outputId": "387f3b5e-8140-4088-856b-d7844f8fe844"
      },
      "execution_count": 5,
      "outputs": [
        {
          "output_type": "execute_result",
          "data": {
            "text/plain": [
              "array([[0, 1, 2],\n",
              "       [3, 4, 5]])"
            ]
          },
          "metadata": {},
          "execution_count": 5
        }
      ]
    },
    {
      "cell_type": "code",
      "source": [
        "arr1"
      ],
      "metadata": {
        "colab": {
          "base_uri": "https://localhost:8080/"
        },
        "id": "V-Cywzy4i9dy",
        "outputId": "efae676a-2fc6-47b3-8a0a-b3f27bd77488"
      },
      "execution_count": 8,
      "outputs": [
        {
          "output_type": "execute_result",
          "data": {
            "text/plain": [
              "array([[0, 1, 2],\n",
              "       [3, 4, 5]])"
            ]
          },
          "metadata": {},
          "execution_count": 8
        }
      ]
    },
    {
      "cell_type": "code",
      "source": [
        "arr2"
      ],
      "metadata": {
        "colab": {
          "base_uri": "https://localhost:8080/"
        },
        "id": "L3gcuzljkC6j",
        "outputId": "f130c974-585e-4897-e489-be371411955b"
      },
      "execution_count": 9,
      "outputs": [
        {
          "output_type": "execute_result",
          "data": {
            "text/plain": [
              "array([[ 6,  7,  8],\n",
              "       [ 9, 10, 11]])"
            ]
          },
          "metadata": {},
          "execution_count": 9
        }
      ]
    },
    {
      "cell_type": "code",
      "source": [
        "#Ko'paytirish\n",
        "arr1 * arr2 # arr1 ning elemtlarini arr2 ning mos ravishda ko'paytirib beradi."
      ],
      "metadata": {
        "colab": {
          "base_uri": "https://localhost:8080/"
        },
        "id": "jDAtjDu0kEDP",
        "outputId": "cd868f89-ea1c-40c7-9785-41742a51f917"
      },
      "execution_count": 11,
      "outputs": [
        {
          "output_type": "execute_result",
          "data": {
            "text/plain": [
              "array([[ 0,  7, 16],\n",
              "       [27, 40, 55]])"
            ]
          },
          "metadata": {},
          "execution_count": 11
        }
      ]
    },
    {
      "cell_type": "code",
      "source": [
        "#Bo'lish\n",
        "arr2/arr1[1:] #arr1 ning elemtlarini arr2 ning mos ravishda bo'lib beradi. #0 dan tashqari hamma son bo'linadi"
      ],
      "metadata": {
        "colab": {
          "base_uri": "https://localhost:8080/"
        },
        "id": "cr3edKdGkHeV",
        "outputId": "6bb7aa66-d1e9-474a-9d38-c4a42e1e1790"
      },
      "execution_count": 15,
      "outputs": [
        {
          "output_type": "execute_result",
          "data": {
            "text/plain": [
              "array([[2.  , 1.75, 1.6 ],\n",
              "       [3.  , 2.5 , 2.2 ]])"
            ]
          },
          "metadata": {},
          "execution_count": 15
        }
      ]
    },
    {
      "cell_type": "code",
      "source": [
        "#Qo'shish\n",
        "arr1 + arr2  #arr1 ning elemtlarini arr2 ning mos ravishda qo'shib beradi beradi."
      ],
      "metadata": {
        "colab": {
          "base_uri": "https://localhost:8080/"
        },
        "id": "U0AxtU9Tkq-J",
        "outputId": "9b04214c-b0b5-47f3-d390-3c797d10ef8d"
      },
      "execution_count": 16,
      "outputs": [
        {
          "output_type": "execute_result",
          "data": {
            "text/plain": [
              "array([[ 6,  8, 10],\n",
              "       [12, 14, 16]])"
            ]
          },
          "metadata": {},
          "execution_count": 16
        }
      ]
    },
    {
      "cell_type": "code",
      "source": [
        "#Ayiruv\n",
        "arr2 - arr1  #arr1 ning elemtlarini arr2 ning mos ravishda ayirib beradi."
      ],
      "metadata": {
        "colab": {
          "base_uri": "https://localhost:8080/"
        },
        "id": "ykIBasN4luF3",
        "outputId": "f60388b8-7d13-4ee9-a7fd-91ea7efd6c8f"
      },
      "execution_count": 17,
      "outputs": [
        {
          "output_type": "execute_result",
          "data": {
            "text/plain": [
              "array([[6, 6, 6],\n",
              "       [6, 6, 6]])"
            ]
          },
          "metadata": {},
          "execution_count": 17
        }
      ]
    },
    {
      "cell_type": "code",
      "source": [
        "#Kvadratga oshirish(square)\n",
        "arr1**2"
      ],
      "metadata": {
        "colab": {
          "base_uri": "https://localhost:8080/"
        },
        "id": "YTu9LW2Nmdyf",
        "outputId": "0966633a-429e-4733-91e2-3c49e553def0"
      },
      "execution_count": 24,
      "outputs": [
        {
          "output_type": "execute_result",
          "data": {
            "text/plain": [
              "array([[ 0,  1,  4],\n",
              "       [ 9, 16, 25]])"
            ]
          },
          "metadata": {},
          "execution_count": 24
        }
      ]
    },
    {
      "cell_type": "code",
      "source": [
        "#Kvadrat ildizga (sqrt)\n",
        "arr2**0.5"
      ],
      "metadata": {
        "colab": {
          "base_uri": "https://localhost:8080/"
        },
        "id": "Xhoa7_Ogmh18",
        "outputId": "07ff86ea-1cbf-4eec-87d4-01db75000e16"
      },
      "execution_count": 27,
      "outputs": [
        {
          "output_type": "execute_result",
          "data": {
            "text/plain": [
              "array([[2.44948974, 2.64575131, 2.82842712],\n",
              "       [3.        , 3.16227766, 3.31662479]])"
            ]
          },
          "metadata": {},
          "execution_count": 27
        }
      ]
    },
    {
      "cell_type": "code",
      "source": [],
      "metadata": {
        "id": "OoKehiyjnHlU"
      },
      "execution_count": 27,
      "outputs": []
    }
  ]
}