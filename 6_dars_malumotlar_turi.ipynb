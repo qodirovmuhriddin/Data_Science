{
  "nbformat": 4,
  "nbformat_minor": 0,
  "metadata": {
    "colab": {
      "provenance": [],
      "authorship_tag": "ABX9TyNle9PsrqyoxM/iKHIml0id",
      "include_colab_link": true
    },
    "kernelspec": {
      "name": "python3",
      "display_name": "Python 3"
    },
    "language_info": {
      "name": "python"
    }
  },
  "cells": [
    {
      "cell_type": "markdown",
      "metadata": {
        "id": "view-in-github",
        "colab_type": "text"
      },
      "source": [
        "<a href=\"https://colab.research.google.com/github/qodirovmuhriddin/Data_Science/blob/main/6_dars_malumotlar_turi.ipynb\" target=\"_parent\"><img src=\"https://colab.research.google.com/assets/colab-badge.svg\" alt=\"Open In Colab\"/></a>"
      ]
    },
    {
      "cell_type": "markdown",
      "source": [
        "# **Data Science va Suniy intellekt praktikumi**\n",
        "# Malumotlar tahlili.\n",
        "2.1. Numpy kutubxonasi bilan ishlash"
      ],
      "metadata": {
        "id": "AHFMg32wocOs"
      }
    },
    {
      "cell_type": "code",
      "execution_count": 1,
      "metadata": {
        "id": "ZPP4OE_bcFpL"
      },
      "outputs": [],
      "source": [
        "import numpy as np"
      ]
    },
    {
      "cell_type": "markdown",
      "source": [
        "2.1.1. N-O'lchovli massivlarga ishlov berish\n",
        "Malumot turlari"
      ],
      "metadata": {
        "id": "KlJq6TVkpHp0"
      }
    },
    {
      "cell_type": "markdown",
      "source": [
        "Massivlar yaratishda malumot turlarini aniq kiritish , malumot turlarini aniqlash , bir turdagi malumot turidan ikkinchi turdagi malumot turiga o`tish."
      ],
      "metadata": {
        "id": "uA2cmvDbq2NQ"
      }
    },
    {
      "cell_type": "code",
      "source": [
        "arr1 = np.array([1, 2, 3, 4], dtype=np.float64) # bu float64 ma'lumotlar turiga ega massiv\n",
        "arr1"
      ],
      "metadata": {
        "colab": {
          "base_uri": "https://localhost:8080/"
        },
        "id": "evk_Hzy4pEeK",
        "outputId": "9fc74c2f-b7e8-499c-e9c8-ac615e867e9f"
      },
      "execution_count": 4,
      "outputs": [
        {
          "output_type": "execute_result",
          "data": {
            "text/plain": [
              "array([1., 2., 3., 4.])"
            ]
          },
          "metadata": {},
          "execution_count": 4
        }
      ]
    },
    {
      "cell_type": "code",
      "source": [
        "arr2 = np.array([1, 2, 3, 4], dtype= np.int32) # bu int32 ma'lumotlar turiga ega massiv\n",
        "arr2"
      ],
      "metadata": {
        "colab": {
          "base_uri": "https://localhost:8080/"
        },
        "id": "tIaWlWJzrnWD",
        "outputId": "4e1aa0eb-0603-451e-e9f1-cf3b81ff2798"
      },
      "execution_count": 5,
      "outputs": [
        {
          "output_type": "execute_result",
          "data": {
            "text/plain": [
              "array([1, 2, 3, 4], dtype=int32)"
            ]
          },
          "metadata": {},
          "execution_count": 5
        }
      ]
    },
    {
      "cell_type": "markdown",
      "source": [
        "`dtype` methodi bilan istalgan massivni va arrayni ma`lumot turini bilishimiz mumkun"
      ],
      "metadata": {
        "id": "svZQYgkvshLr"
      }
    },
    {
      "cell_type": "code",
      "source": [
        "arr1.dtype"
      ],
      "metadata": {
        "colab": {
          "base_uri": "https://localhost:8080/"
        },
        "id": "jeHRJr8OsSfT",
        "outputId": "345c4191-4eb5-4c79-8cdc-e6a683c2122d"
      },
      "execution_count": 6,
      "outputs": [
        {
          "output_type": "execute_result",
          "data": {
            "text/plain": [
              "dtype('float64')"
            ]
          },
          "metadata": {},
          "execution_count": 6
        }
      ]
    },
    {
      "cell_type": "code",
      "source": [
        "arr2.dtype"
      ],
      "metadata": {
        "colab": {
          "base_uri": "https://localhost:8080/"
        },
        "id": "4LWopvMts2_4",
        "outputId": "b151fb60-09d8-49d7-81ff-d72c26d7e45e"
      },
      "execution_count": 7,
      "outputs": [
        {
          "output_type": "execute_result",
          "data": {
            "text/plain": [
              "dtype('int32')"
            ]
          },
          "metadata": {},
          "execution_count": 7
        }
      ]
    },
    {
      "cell_type": "markdown",
      "source": [
        "#Bir turdagi ma'lumot turidan boshqasiga o'girish"
      ],
      "metadata": {
        "id": "JnBe9nxjs8ZM"
      }
    },
    {
      "cell_type": "code",
      "source": [
        "arr = np.array([1, 2, 3, 4]) #int64\n",
        "arr"
      ],
      "metadata": {
        "colab": {
          "base_uri": "https://localhost:8080/"
        },
        "id": "XlSYLj5ks5Hg",
        "outputId": "100cf6bf-524f-4c8f-ccfb-67b2f43747e6"
      },
      "execution_count": 8,
      "outputs": [
        {
          "output_type": "execute_result",
          "data": {
            "text/plain": [
              "array([1, 2, 3, 4])"
            ]
          },
          "metadata": {},
          "execution_count": 8
        }
      ]
    },
    {
      "cell_type": "code",
      "source": [
        "arr.dtype"
      ],
      "metadata": {
        "colab": {
          "base_uri": "https://localhost:8080/"
        },
        "id": "4r0uH_7LtSSk",
        "outputId": "ac5ecd9c-2b4d-4720-b379-f795da4f432a"
      },
      "execution_count": 9,
      "outputs": [
        {
          "output_type": "execute_result",
          "data": {
            "text/plain": [
              "dtype('int64')"
            ]
          },
          "metadata": {},
          "execution_count": 9
        }
      ]
    },
    {
      "cell_type": "markdown",
      "source": [
        "`astype` methodi"
      ],
      "metadata": {
        "id": "2_D6DOaftW4S"
      }
    },
    {
      "cell_type": "code",
      "source": [
        "float_arr = arr.astype(np.float64)\n",
        "float_arr"
      ],
      "metadata": {
        "colab": {
          "base_uri": "https://localhost:8080/"
        },
        "id": "zIlZupQRtTsu",
        "outputId": "9de08d22-b19f-491d-bda2-38b1eb3e5bde"
      },
      "execution_count": 11,
      "outputs": [
        {
          "output_type": "execute_result",
          "data": {
            "text/plain": [
              "array([1., 2., 3., 4.])"
            ]
          },
          "metadata": {},
          "execution_count": 11
        }
      ]
    },
    {
      "cell_type": "code",
      "source": [
        "float_arr.dtype"
      ],
      "metadata": {
        "colab": {
          "base_uri": "https://localhost:8080/"
        },
        "id": "9EryyF2Vt2lj",
        "outputId": "a86ea7b4-d47f-493b-bfd0-2f08522eb111"
      },
      "execution_count": 12,
      "outputs": [
        {
          "output_type": "execute_result",
          "data": {
            "text/plain": [
              "dtype('float64')"
            ]
          },
          "metadata": {},
          "execution_count": 12
        }
      ]
    },
    {
      "cell_type": "markdown",
      "source": [
        "#**`Diqqat` Birinchi ma'lumot turidan ikinchi ma'lumot turiga o'tayotganda ehtiyot bo'ling , chunki ma'lumot yo'toshingiz mumkun. ya'ni float dan int ga o'tishda.**"
      ],
      "metadata": {
        "id": "jxZT37nvuJwK"
      }
    },
    {
      "cell_type": "code",
      "source": [
        "data = np.array([1.5, 2.5, 3.5, 4.5]) #float64\n",
        "data"
      ],
      "metadata": {
        "colab": {
          "base_uri": "https://localhost:8080/"
        },
        "id": "3d5uRCOPuDqx",
        "outputId": "a9e7a095-f783-46d0-8f43-7bf72a388023"
      },
      "execution_count": 13,
      "outputs": [
        {
          "output_type": "execute_result",
          "data": {
            "text/plain": [
              "array([1.5, 2.5, 3.5, 4.5])"
            ]
          },
          "metadata": {},
          "execution_count": 13
        }
      ]
    },
    {
      "cell_type": "code",
      "source": [
        "data.dtype"
      ],
      "metadata": {
        "colab": {
          "base_uri": "https://localhost:8080/"
        },
        "id": "Fcz0OqB0vHgP",
        "outputId": "9f28f0ec-fa7f-4a7a-a169-9acc156e7a84"
      },
      "execution_count": 14,
      "outputs": [
        {
          "output_type": "execute_result",
          "data": {
            "text/plain": [
              "dtype('float64')"
            ]
          },
          "metadata": {},
          "execution_count": 14
        }
      ]
    },
    {
      "cell_type": "code",
      "source": [
        "int_data = data.astype(np.int64)\n",
        "int_data"
      ],
      "metadata": {
        "colab": {
          "base_uri": "https://localhost:8080/"
        },
        "id": "A4GtEhrQvJ3A",
        "outputId": "a9d5c559-4cfd-4e5c-f69a-d2148addb836"
      },
      "execution_count": 17,
      "outputs": [
        {
          "output_type": "execute_result",
          "data": {
            "text/plain": [
              "array([1, 2, 3, 4])"
            ]
          },
          "metadata": {},
          "execution_count": 17
        }
      ]
    },
    {
      "cell_type": "code",
      "source": [
        "int_data.dtype"
      ],
      "metadata": {
        "colab": {
          "base_uri": "https://localhost:8080/"
        },
        "id": "0b-0EUIJvYjL",
        "outputId": "b72b31d0-d23f-46af-81f1-0b506763d191"
      },
      "execution_count": 18,
      "outputs": [
        {
          "output_type": "execute_result",
          "data": {
            "text/plain": [
              "dtype('int64')"
            ]
          },
          "metadata": {},
          "execution_count": 18
        }
      ]
    },
    {
      "cell_type": "markdown",
      "source": [
        "#Xulosa `float` ma'lumot turidan `int` ma'lumot turiga o'tganimizda bizda ma'lumotlar yo'qoldi"
      ],
      "metadata": {
        "id": "iV9pLVZAvvzr"
      }
    }
  ]
}