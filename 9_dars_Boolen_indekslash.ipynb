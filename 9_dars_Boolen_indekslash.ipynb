{
  "nbformat": 4,
  "nbformat_minor": 0,
  "metadata": {
    "colab": {
      "provenance": [],
      "authorship_tag": "ABX9TyNQlHp/qn/YfuIAX3OrTc3T",
      "include_colab_link": true
    },
    "kernelspec": {
      "name": "python3",
      "display_name": "Python 3"
    },
    "language_info": {
      "name": "python"
    }
  },
  "cells": [
    {
      "cell_type": "markdown",
      "metadata": {
        "id": "view-in-github",
        "colab_type": "text"
      },
      "source": [
        "<a href=\"https://colab.research.google.com/github/qodirovmuhriddin/Data_Science/blob/main/9_dars_Boolen_indekslash.ipynb\" target=\"_parent\"><img src=\"https://colab.research.google.com/assets/colab-badge.svg\" alt=\"Open In Colab\"/></a>"
      ]
    },
    {
      "cell_type": "markdown",
      "source": [
        "#**Data Science va Sun'iy Intellekt Praktikum**\n",
        "#Ma'lumotlar tahlili\n",
        "Numpy kutubxonasi bilan ishlash"
      ],
      "metadata": {
        "id": "6N9TxIZZyYDi"
      }
    },
    {
      "cell_type": "code",
      "execution_count": 7,
      "metadata": {
        "id": "YqVz_pOEx567"
      },
      "outputs": [],
      "source": [
        "import numpy as np"
      ]
    },
    {
      "cell_type": "markdown",
      "source": [
        "#2.1.1.N-O'lchovli massiv(array)larga ishlov berish \n",
        "Boolen Indekslash"
      ],
      "metadata": {
        "id": "XCcJLxwjzKcl"
      }
    },
    {
      "cell_type": "code",
      "source": [
        "#Ismlar \n",
        "\n",
        "names = np.array(['Muhriddin', 'Elyor', 'Husan', 'Elyor', 'Xurshid', 'Bobojon', 'Muhriddin'])\n",
        "names"
      ],
      "metadata": {
        "colab": {
          "base_uri": "https://localhost:8080/"
        },
        "id": "ia9GUa2IzHFZ",
        "outputId": "63a53eb2-9836-42ca-cd9b-398a0952bb12"
      },
      "execution_count": 8,
      "outputs": [
        {
          "output_type": "execute_result",
          "data": {
            "text/plain": [
              "array(['Muhriddin', 'Elyor', 'Husan', 'Elyor', 'Xurshid', 'Bobojon',\n",
              "       'Muhriddin'], dtype='<U9')"
            ]
          },
          "metadata": {},
          "execution_count": 8
        }
      ]
    },
    {
      "cell_type": "code",
      "source": [
        "#data \n",
        "\n",
        "data = np.random.randn(7, 4)\n",
        "data"
      ],
      "metadata": {
        "colab": {
          "base_uri": "https://localhost:8080/"
        },
        "id": "1PzN8xwu0Ptm",
        "outputId": "8dddf70f-6d4e-4595-d1ae-caa01046ba9d"
      },
      "execution_count": 9,
      "outputs": [
        {
          "output_type": "execute_result",
          "data": {
            "text/plain": [
              "array([[ 2.42347192, -0.12711368, -0.81393456,  0.43563754],\n",
              "       [ 2.06139399, -2.14115339, -0.14142953,  0.93783161],\n",
              "       [-2.79721848,  0.10757069,  0.70364013, -0.01792036],\n",
              "       [ 1.46812742,  0.36474272,  0.38171072,  0.59352869],\n",
              "       [-2.99068973, -0.03615072,  0.56312294, -0.10895767],\n",
              "       [ 0.02433981, -0.15074425, -0.71427736,  2.43438917],\n",
              "       [ 2.03586876, -0.45021266, -0.06457745,  0.2045676 ]])"
            ]
          },
          "metadata": {},
          "execution_count": 9
        }
      ]
    },
    {
      "cell_type": "markdown",
      "source": [
        "#**"
      ],
      "metadata": {
        "id": "xbZP-Fha05Q_"
      }
    },
    {
      "cell_type": "code",
      "source": [
        "names == 'Muhriddin'"
      ],
      "metadata": {
        "colab": {
          "base_uri": "https://localhost:8080/"
        },
        "id": "iCrFVGqS0foF",
        "outputId": "d56fa6dd-bd01-4c47-f4be-18d00622bb45"
      },
      "execution_count": 10,
      "outputs": [
        {
          "output_type": "execute_result",
          "data": {
            "text/plain": [
              "array([ True, False, False, False, False, False,  True])"
            ]
          },
          "metadata": {},
          "execution_count": 10
        }
      ]
    },
    {
      "cell_type": "code",
      "source": [
        "names == 'Elyor'"
      ],
      "metadata": {
        "colab": {
          "base_uri": "https://localhost:8080/"
        },
        "id": "U7tnOM0X13Jm",
        "outputId": "fdde0c10-d2d2-4413-e67d-7771b1dfe6d7"
      },
      "execution_count": 11,
      "outputs": [
        {
          "output_type": "execute_result",
          "data": {
            "text/plain": [
              "array([False,  True, False,  True, False, False, False])"
            ]
          },
          "metadata": {},
          "execution_count": 11
        }
      ]
    },
    {
      "cell_type": "code",
      "source": [
        "data[names == 'Muhriddin'] # Muhriddinga tegishli barcha ma'lumotlarni chiqarib olish"
      ],
      "metadata": {
        "colab": {
          "base_uri": "https://localhost:8080/"
        },
        "id": "flyIfvjQ2XGE",
        "outputId": "75656365-5aeb-4f2e-ecae-03707e50211a"
      },
      "execution_count": 12,
      "outputs": [
        {
          "output_type": "execute_result",
          "data": {
            "text/plain": [
              "array([[ 2.42347192, -0.12711368, -0.81393456,  0.43563754],\n",
              "       [ 2.03586876, -0.45021266, -0.06457745,  0.2045676 ]])"
            ]
          },
          "metadata": {},
          "execution_count": 12
        }
      ]
    },
    {
      "cell_type": "code",
      "source": [
        "data[names == 'Elyor'] # Elyorga tegishli barcha ma'lumotlarni chiqarib olish"
      ],
      "metadata": {
        "colab": {
          "base_uri": "https://localhost:8080/"
        },
        "id": "su2HSPXS22Gy",
        "outputId": "54e1ace1-a5e0-4a50-935e-11eeb0629209"
      },
      "execution_count": 13,
      "outputs": [
        {
          "output_type": "execute_result",
          "data": {
            "text/plain": [
              "array([[ 2.06139399, -2.14115339, -0.14142953,  0.93783161],\n",
              "       [ 1.46812742,  0.36474272,  0.38171072,  0.59352869]])"
            ]
          },
          "metadata": {},
          "execution_count": 13
        }
      ]
    },
    {
      "cell_type": "code",
      "source": [
        "data[names == 'Muhriddin', 2:] # Muhriddinga tegishli oxirgi ikta ustundagi ma'lumotlarni chiqarib olish"
      ],
      "metadata": {
        "colab": {
          "base_uri": "https://localhost:8080/"
        },
        "id": "d-ofktTu3D5T",
        "outputId": "291e04f3-c598-45fc-fe44-91fd09e233ed"
      },
      "execution_count": 14,
      "outputs": [
        {
          "output_type": "execute_result",
          "data": {
            "text/plain": [
              "array([[-0.81393456,  0.43563754],\n",
              "       [-0.06457745,  0.2045676 ]])"
            ]
          },
          "metadata": {},
          "execution_count": 14
        }
      ]
    },
    {
      "cell_type": "code",
      "source": [
        "data[names == 'Elyor', 2:] # Elyorga tegishli oxirgi ikkita ustundagi ma'lumotlarni chiqarib olish "
      ],
      "metadata": {
        "colab": {
          "base_uri": "https://localhost:8080/"
        },
        "id": "zw5-RHMd31xA",
        "outputId": "86f2a1e1-76f6-44eb-d668-b5b4d1cd828e"
      },
      "execution_count": 15,
      "outputs": [
        {
          "output_type": "execute_result",
          "data": {
            "text/plain": [
              "array([[-0.14142953,  0.93783161],\n",
              "       [ 0.38171072,  0.59352869]])"
            ]
          },
          "metadata": {},
          "execution_count": 15
        }
      ]
    },
    {
      "cell_type": "code",
      "source": [
        "print(names)\n",
        "print(data)"
      ],
      "metadata": {
        "id": "BiomGYjO9Ekq",
        "colab": {
          "base_uri": "https://localhost:8080/"
        },
        "outputId": "a010d42b-718e-4ccf-ef88-3eee1a675228"
      },
      "execution_count": 18,
      "outputs": [
        {
          "output_type": "stream",
          "name": "stdout",
          "text": [
            "['Muhriddin' 'Elyor' 'Husan' 'Elyor' 'Xurshid' 'Bobojon' 'Muhriddin']\n",
            "[[ 2.42347192 -0.12711368 -0.81393456  0.43563754]\n",
            " [ 2.06139399 -2.14115339 -0.14142953  0.93783161]\n",
            " [-2.79721848  0.10757069  0.70364013 -0.01792036]\n",
            " [ 1.46812742  0.36474272  0.38171072  0.59352869]\n",
            " [-2.99068973 -0.03615072  0.56312294 -0.10895767]\n",
            " [ 0.02433981 -0.15074425 -0.71427736  2.43438917]\n",
            " [ 2.03586876 -0.45021266 -0.06457745  0.2045676 ]]\n"
          ]
        }
      ]
    },
    {
      "cell_type": "code",
      "source": [
        "mask = (names == 'Muhriddin') | (names == 'Elyor') # \"|\" or(yoki)\n",
        "mask"
      ],
      "metadata": {
        "colab": {
          "base_uri": "https://localhost:8080/"
        },
        "id": "zAKrnHd84BLC",
        "outputId": "7cdff686-c836-45f4-e2ac-625ba3ddac23"
      },
      "execution_count": 20,
      "outputs": [
        {
          "output_type": "execute_result",
          "data": {
            "text/plain": [
              "array([ True,  True, False,  True, False, False,  True])"
            ]
          },
          "metadata": {},
          "execution_count": 20
        }
      ]
    },
    {
      "cell_type": "code",
      "source": [
        "data[mask] # Muhriddin va Elyorga tegishli ma`lumotlarni ajratib olish"
      ],
      "metadata": {
        "colab": {
          "base_uri": "https://localhost:8080/"
        },
        "id": "EVBVtoU14MUc",
        "outputId": "d367c9eb-62d7-4ccd-e360-fc6ed3043647"
      },
      "execution_count": 21,
      "outputs": [
        {
          "output_type": "execute_result",
          "data": {
            "text/plain": [
              "array([[ 2.42347192, -0.12711368, -0.81393456,  0.43563754],\n",
              "       [ 2.06139399, -2.14115339, -0.14142953,  0.93783161],\n",
              "       [ 1.46812742,  0.36474272,  0.38171072,  0.59352869],\n",
              "       [ 2.03586876, -0.45021266, -0.06457745,  0.2045676 ]])"
            ]
          },
          "metadata": {},
          "execution_count": 21
        }
      ]
    },
    {
      "cell_type": "code",
      "source": [
        "data"
      ],
      "metadata": {
        "colab": {
          "base_uri": "https://localhost:8080/"
        },
        "id": "tDiQsfei5EpW",
        "outputId": "cd1be258-d5c5-4ae5-fe27-dbe6880b2408"
      },
      "execution_count": 22,
      "outputs": [
        {
          "output_type": "execute_result",
          "data": {
            "text/plain": [
              "array([[ 2.42347192, -0.12711368, -0.81393456,  0.43563754],\n",
              "       [ 2.06139399, -2.14115339, -0.14142953,  0.93783161],\n",
              "       [-2.79721848,  0.10757069,  0.70364013, -0.01792036],\n",
              "       [ 1.46812742,  0.36474272,  0.38171072,  0.59352869],\n",
              "       [-2.99068973, -0.03615072,  0.56312294, -0.10895767],\n",
              "       [ 0.02433981, -0.15074425, -0.71427736,  2.43438917],\n",
              "       [ 2.03586876, -0.45021266, -0.06457745,  0.2045676 ]])"
            ]
          },
          "metadata": {},
          "execution_count": 22
        }
      ]
    },
    {
      "cell_type": "code",
      "source": [
        "data[data<0] = 0\n",
        "data"
      ],
      "metadata": {
        "colab": {
          "base_uri": "https://localhost:8080/"
        },
        "id": "32U6WCiZ5TWk",
        "outputId": "9cc1c5bd-dab9-457d-dd69-06a922f80b3f"
      },
      "execution_count": 23,
      "outputs": [
        {
          "output_type": "execute_result",
          "data": {
            "text/plain": [
              "array([[2.42347192, 0.        , 0.        , 0.43563754],\n",
              "       [2.06139399, 0.        , 0.        , 0.93783161],\n",
              "       [0.        , 0.10757069, 0.70364013, 0.        ],\n",
              "       [1.46812742, 0.36474272, 0.38171072, 0.59352869],\n",
              "       [0.        , 0.        , 0.56312294, 0.        ],\n",
              "       [0.02433981, 0.        , 0.        , 2.43438917],\n",
              "       [2.03586876, 0.        , 0.        , 0.2045676 ]])"
            ]
          },
          "metadata": {},
          "execution_count": 23
        }
      ]
    },
    {
      "cell_type": "code",
      "source": [],
      "metadata": {
        "id": "olWvYU0s5yzH"
      },
      "execution_count": null,
      "outputs": []
    }
  ]
}