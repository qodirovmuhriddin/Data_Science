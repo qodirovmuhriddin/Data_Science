{
  "nbformat": 4,
  "nbformat_minor": 0,
  "metadata": {
    "colab": {
      "provenance": [],
      "authorship_tag": "ABX9TyM9iat4DU5uxbck3Zyk+r7p",
      "include_colab_link": true
    },
    "kernelspec": {
      "name": "python3",
      "display_name": "Python 3"
    },
    "language_info": {
      "name": "python"
    }
  },
  "cells": [
    {
      "cell_type": "markdown",
      "metadata": {
        "id": "view-in-github",
        "colab_type": "text"
      },
      "source": [
        "<a href=\"https://colab.research.google.com/github/qodirovmuhriddin/Data_Science/blob/main/_0_numpy_intro.ipynb\" target=\"_parent\"><img src=\"https://colab.research.google.com/assets/colab-badge.svg\" alt=\"Open In Colab\"/></a>"
      ]
    },
    {
      "cell_type": "markdown",
      "source": [
        "Data Science va Sun'iy Intellekt Praktikum.\n",
        "Ma'lumotlar Tahlili(Numpy Kutubxonasi)"
      ],
      "metadata": {
        "id": "j9QU2CkpuKvo"
      }
    },
    {
      "cell_type": "markdown",
      "source": [
        "Numpy Kutubxonasini chaqirib olish\n",
        "\n"
      ],
      "metadata": {
        "id": "FjCI1_TaugpG"
      }
    },
    {
      "cell_type": "code",
      "source": [
        "import numpy as np"
      ],
      "metadata": {
        "id": "oABsSjG5vN-m"
      },
      "execution_count": null,
      "outputs": []
    },
    {
      "cell_type": "markdown",
      "source": [
        "Phyton list bilan Numpy kutubxonasida massivlar (arraylar) hisoblashlar orasidagi farqni ko'rib chiqamiz"
      ],
      "metadata": {
        "id": "Mfj5OOgmuov5"
      }
    },
    {
      "cell_type": "code",
      "execution_count": null,
      "metadata": {
        "id": "9-P28P2Xt0C8"
      },
      "outputs": [],
      "source": [
        "my_list = list(range(100000)) # phyton list 0~99999 -->Normal\n",
        "my_array = np.array(range(100000)) #numpy array(massiv) 0~99999 --> Vektorlashgan"
      ]
    },
    {
      "cell_type": "code",
      "source": [
        "%time for _ in range(10): (x*2 for x in my_list) #normal"
      ],
      "metadata": {
        "colab": {
          "base_uri": "https://localhost:8080/"
        },
        "id": "NdeerZNLxSma",
        "outputId": "050f1f1b-dca1-4ba0-bde1-898e4b459478"
      },
      "execution_count": null,
      "outputs": [
        {
          "output_type": "stream",
          "name": "stdout",
          "text": [
            "CPU times: user 17 µs, sys: 0 ns, total: 17 µs\n",
            "Wall time: 22.2 µs\n"
          ]
        }
      ]
    },
    {
      "cell_type": "code",
      "source": [
        "%time for _ in range(10): my_array*2 #Vektorlashgan"
      ],
      "metadata": {
        "colab": {
          "base_uri": "https://localhost:8080/"
        },
        "id": "1ISv1d97yONG",
        "outputId": "3d26fd89-e2e5-4bf6-e819-1b6fac3d5550"
      },
      "execution_count": null,
      "outputs": [
        {
          "output_type": "stream",
          "name": "stdout",
          "text": [
            "CPU times: user 3.76 ms, sys: 65 µs, total: 3.83 ms\n",
            "Wall time: 9.32 ms\n"
          ]
        }
      ]
    },
    {
      "cell_type": "code",
      "source": [
        "22.2/9.32\n"
      ],
      "metadata": {
        "colab": {
          "base_uri": "https://localhost:8080/"
        },
        "id": "EXOfyO_Jymr4",
        "outputId": "cb706290-9dc5-4bfc-9ba1-984a76acc640"
      },
      "execution_count": null,
      "outputs": [
        {
          "output_type": "execute_result",
          "data": {
            "text/plain": [
              "2.3819742489270386"
            ]
          },
          "metadata": {},
          "execution_count": 7
        }
      ]
    }
  ]
}