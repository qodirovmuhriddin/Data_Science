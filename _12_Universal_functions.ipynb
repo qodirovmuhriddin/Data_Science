{
  "nbformat": 4,
  "nbformat_minor": 0,
  "metadata": {
    "colab": {
      "provenance": [],
      "authorship_tag": "ABX9TyNPjVEZ8RTxVevJvs6nEhaB",
      "include_colab_link": true
    },
    "kernelspec": {
      "name": "python3",
      "display_name": "Python 3"
    },
    "language_info": {
      "name": "python"
    }
  },
  "cells": [
    {
      "cell_type": "markdown",
      "metadata": {
        "id": "view-in-github",
        "colab_type": "text"
      },
      "source": [
        "<a href=\"https://colab.research.google.com/github/qodirovmuhriddin/Data_Science/blob/main/_12_Universal_functions.ipynb\" target=\"_parent\"><img src=\"https://colab.research.google.com/assets/colab-badge.svg\" alt=\"Open In Colab\"/></a>"
      ]
    },
    {
      "cell_type": "markdown",
      "source": [
        "#**Data Science praktikum**\n",
        "Ma'lumotlar tahlili\n",
        "#Numpy kutubxonasi bilan ishlash\n",
        "\n"
      ],
      "metadata": {
        "id": "Iu3iugZbXUa_"
      }
    },
    {
      "cell_type": "code",
      "execution_count": 2,
      "metadata": {
        "id": "5PbI32q2XTnZ"
      },
      "outputs": [],
      "source": [
        "import numpy as np"
      ]
    },
    {
      "cell_type": "markdown",
      "source": [
        "#Unary funksiyalar (bitta argument qabul qiluvchi funksiya)"
      ],
      "metadata": {
        "id": "mEROItb9e7Hc"
      }
    },
    {
      "cell_type": "markdown",
      "source": [
        "`sqrt` `square` `exp` `log` `modf` `sign` `isnan` funksiya ko'rib chiqamiz"
      ],
      "metadata": {
        "id": "KLHHx2QGfLLU"
      }
    },
    {
      "cell_type": "code",
      "source": [
        "arr = np.arange(10) # 0~10 gacha bo'lgan elementlardan iborat bo'lgan massivni qaytaradi\n",
        "arr"
      ],
      "metadata": {
        "colab": {
          "base_uri": "https://localhost:8080/"
        },
        "id": "kiPy-_ELfhzl",
        "outputId": "fb420728-6162-4fae-e16f-616877bd7d13"
      },
      "execution_count": 3,
      "outputs": [
        {
          "output_type": "execute_result",
          "data": {
            "text/plain": [
              "array([0, 1, 2, 3, 4, 5, 6, 7, 8, 9])"
            ]
          },
          "metadata": {},
          "execution_count": 3
        }
      ]
    },
    {
      "cell_type": "markdown",
      "source": [
        "`sqrt` massivning xar bir elementini kvadrat ildizini qaytaradi"
      ],
      "metadata": {
        "id": "ci12pbCYf7On"
      }
    },
    {
      "cell_type": "code",
      "source": [
        "np.sqrt(arr) # arr nomli massivning barcha elementlaridan kv ildiz qaytaradi"
      ],
      "metadata": {
        "colab": {
          "base_uri": "https://localhost:8080/"
        },
        "id": "NFv5ZRdZfefm",
        "outputId": "01b39b4e-c717-46eb-9b10-b68a1413eb72"
      },
      "execution_count": 4,
      "outputs": [
        {
          "output_type": "execute_result",
          "data": {
            "text/plain": [
              "array([0.        , 1.        , 1.41421356, 1.73205081, 2.        ,\n",
              "       2.23606798, 2.44948974, 2.64575131, 2.82842712, 3.        ])"
            ]
          },
          "metadata": {},
          "execution_count": 4
        }
      ]
    },
    {
      "cell_type": "markdown",
      "source": [
        "`square` massivning har bir elementini kvadratga oshiradi"
      ],
      "metadata": {
        "id": "JPXcKrBahBMM"
      }
    },
    {
      "cell_type": "code",
      "source": [
        "np.square(arr) # arr nomli massivning barcha elementini kvadratga oshiradi"
      ],
      "metadata": {
        "colab": {
          "base_uri": "https://localhost:8080/"
        },
        "id": "j6zk5IU_g3Sf",
        "outputId": "05ea26de-fa2e-4c25-ad96-a10e3fbc1052"
      },
      "execution_count": 5,
      "outputs": [
        {
          "output_type": "execute_result",
          "data": {
            "text/plain": [
              "array([ 0,  1,  4,  9, 16, 25, 36, 49, 64, 81])"
            ]
          },
          "metadata": {},
          "execution_count": 5
        }
      ]
    },
    {
      "cell_type": "code",
      "source": [
        "#np.square(arr).reshape(5, 2)\n",
        "#darsdan tashqari idea "
      ],
      "metadata": {
        "id": "pQodt3jvhmN4"
      },
      "execution_count": 6,
      "outputs": []
    },
    {
      "cell_type": "markdown",
      "source": [
        "`exp` massivning har bir elementini kvadratga oshiradi \n"
      ],
      "metadata": {
        "id": "Z9cV8XWFjMV5"
      }
    },
    {
      "cell_type": "code",
      "source": [
        "np.exp(arr) # arr nomli massivning barcha elementkarini eksponentini qaytaradi"
      ],
      "metadata": {
        "colab": {
          "base_uri": "https://localhost:8080/"
        },
        "id": "Y73JHl8thsSC",
        "outputId": "3ca259e3-4a36-4d40-ebb3-62f96df2f680"
      },
      "execution_count": 7,
      "outputs": [
        {
          "output_type": "execute_result",
          "data": {
            "text/plain": [
              "array([1.00000000e+00, 2.71828183e+00, 7.38905610e+00, 2.00855369e+01,\n",
              "       5.45981500e+01, 1.48413159e+02, 4.03428793e+02, 1.09663316e+03,\n",
              "       2.98095799e+03, 8.10308393e+03])"
            ]
          },
          "metadata": {},
          "execution_count": 7
        }
      ]
    },
    {
      "cell_type": "markdown",
      "source": [
        "`log` massivning har bir massivning logarifmini hisoblaydi"
      ],
      "metadata": {
        "id": "En7dgQ8fkGDR"
      }
    },
    {
      "cell_type": "code",
      "source": [
        "np.log(arr)  # arr nomli massivning barcha elementlarini logarifmini hisoblaydi"
      ],
      "metadata": {
        "colab": {
          "base_uri": "https://localhost:8080/"
        },
        "id": "cg9cvRZ7kSIo",
        "outputId": "160c3107-b5fb-4308-c2fe-13bb19373975"
      },
      "execution_count": 8,
      "outputs": [
        {
          "output_type": "stream",
          "name": "stderr",
          "text": [
            "/usr/local/lib/python3.7/dist-packages/ipykernel_launcher.py:1: RuntimeWarning: divide by zero encountered in log\n",
            "  \"\"\"Entry point for launching an IPython kernel.\n"
          ]
        },
        {
          "output_type": "execute_result",
          "data": {
            "text/plain": [
              "array([      -inf, 0.        , 0.69314718, 1.09861229, 1.38629436,\n",
              "       1.60943791, 1.79175947, 1.94591015, 2.07944154, 2.19722458])"
            ]
          },
          "metadata": {},
          "execution_count": 8
        }
      ]
    },
    {
      "cell_type": "code",
      "source": [
        "arr1 = np.random.randn(6)\n",
        "arr1"
      ],
      "metadata": {
        "colab": {
          "base_uri": "https://localhost:8080/"
        },
        "id": "OZtTkx9tqolr",
        "outputId": "16716215-6030-4801-cf03-8a18ae595147"
      },
      "execution_count": 9,
      "outputs": [
        {
          "output_type": "execute_result",
          "data": {
            "text/plain": [
              "array([-0.21088719,  0.38077524, -0.18921467, -0.69367874,  1.1661168 ,\n",
              "       -1.42015958])"
            ]
          },
          "metadata": {},
          "execution_count": 9
        }
      ]
    },
    {
      "cell_type": "code",
      "source": [
        "qoldiq, butun = np.modf(arr1) # 6ta eelementdan iborat taxminiy qiymatlarga ega massiv"
      ],
      "metadata": {
        "id": "M-ab3zR1qyTd"
      },
      "execution_count": 10,
      "outputs": []
    },
    {
      "cell_type": "code",
      "source": [
        "print(butun)\n",
        "print(qoldiq)"
      ],
      "metadata": {
        "colab": {
          "base_uri": "https://localhost:8080/"
        },
        "id": "kHHNI-nerAke",
        "outputId": "a1d0246f-d29a-4a79-ec8c-64f21d8e4dc9"
      },
      "execution_count": 11,
      "outputs": [
        {
          "output_type": "stream",
          "name": "stdout",
          "text": [
            "[-0.  0. -0. -0.  1. -1.]\n",
            "[-0.21088719  0.38077524 -0.18921467 -0.69367874  0.1661168  -0.42015958]\n"
          ]
        }
      ]
    },
    {
      "cell_type": "markdown",
      "source": [
        "`sign` funksiyasi massiv elementlarini qiymat manfiy bo'lsa `-1` va aksincha musbat bo'lsa `1` ni qaytaradi"
      ],
      "metadata": {
        "id": "Zgz6VwGChTOK"
      }
    },
    {
      "cell_type": "code",
      "source": [
        "np.sign(arr1) # arr1 massivining elementlari ishoralarini `-1` va `1` ko'rinishida qaytaradi"
      ],
      "metadata": {
        "id": "dhS3KQeRrDyp",
        "colab": {
          "base_uri": "https://localhost:8080/"
        },
        "outputId": "594d6d91-6628-483c-aa00-fb25b984d408"
      },
      "execution_count": 12,
      "outputs": [
        {
          "output_type": "execute_result",
          "data": {
            "text/plain": [
              "array([-1.,  1., -1., -1.,  1., -1.])"
            ]
          },
          "metadata": {},
          "execution_count": 12
        }
      ]
    },
    {
      "cell_type": "markdown",
      "source": [
        "`isnan` massivning elemtlarida NaN funksiyasi bo'lsa True va aksincha bo'lmasa False qaytaradi"
      ],
      "metadata": {
        "id": "8JT4aQXLiuRR"
      }
    },
    {
      "cell_type": "code",
      "source": [
        "arr1"
      ],
      "metadata": {
        "colab": {
          "base_uri": "https://localhost:8080/"
        },
        "id": "vIRkWnsMhvlT",
        "outputId": "3e3b44c2-b56a-4cd3-9b5c-16c368a9ce29"
      },
      "execution_count": 13,
      "outputs": [
        {
          "output_type": "execute_result",
          "data": {
            "text/plain": [
              "array([-0.21088719,  0.38077524, -0.18921467, -0.69367874,  1.1661168 ,\n",
              "       -1.42015958])"
            ]
          },
          "metadata": {},
          "execution_count": 13
        }
      ]
    },
    {
      "cell_type": "code",
      "source": [
        "np.isnan(arr1)"
      ],
      "metadata": {
        "colab": {
          "base_uri": "https://localhost:8080/"
        },
        "id": "TKaKGDnSjOz2",
        "outputId": "84e20045-ef64-4d83-d0d3-c15ab81ebdf4"
      },
      "execution_count": 14,
      "outputs": [
        {
          "output_type": "execute_result",
          "data": {
            "text/plain": [
              "array([False, False, False, False, False, False])"
            ]
          },
          "metadata": {},
          "execution_count": 14
        }
      ]
    },
    {
      "cell_type": "code",
      "source": [
        "arr1[0] = np.NaN # 0- elementimizni NaN GA Almashtirish"
      ],
      "metadata": {
        "id": "evrn-IcPjqg_"
      },
      "execution_count": 15,
      "outputs": []
    },
    {
      "cell_type": "code",
      "source": [
        "arr1"
      ],
      "metadata": {
        "colab": {
          "base_uri": "https://localhost:8080/"
        },
        "id": "5ZZe92mGj0ex",
        "outputId": "b2962229-87f2-4269-feed-b24a03afdaa5"
      },
      "execution_count": 16,
      "outputs": [
        {
          "output_type": "execute_result",
          "data": {
            "text/plain": [
              "array([        nan,  0.38077524, -0.18921467, -0.69367874,  1.1661168 ,\n",
              "       -1.42015958])"
            ]
          },
          "metadata": {},
          "execution_count": 16
        }
      ]
    },
    {
      "cell_type": "code",
      "source": [
        "np.isnan(arr1)"
      ],
      "metadata": {
        "colab": {
          "base_uri": "https://localhost:8080/"
        },
        "id": "_qcPDVeDj4kj",
        "outputId": "a332797d-d217-47ef-dcb6-de28febf8b5b"
      },
      "execution_count": 17,
      "outputs": [
        {
          "output_type": "execute_result",
          "data": {
            "text/plain": [
              "array([ True, False, False, False, False, False])"
            ]
          },
          "metadata": {},
          "execution_count": 17
        }
      ]
    },
    {
      "cell_type": "markdown",
      "source": [
        "Binary (ikkita argument qabul qiluvchi funksiyalar)"
      ],
      "metadata": {
        "id": "RDOXIYFjk2Ch"
      }
    },
    {
      "cell_type": "markdown",
      "source": [
        "`add`, `multiply`, `maximum` funksiyalarini ko'rib chiqamiz"
      ],
      "metadata": {
        "id": "vT37hn_klBY8"
      }
    },
    {
      "cell_type": "markdown",
      "source": [
        "`add` ikkita massivning mos elemtlarini qo'shadi"
      ],
      "metadata": {
        "id": "ksqRXqwplZvU"
      }
    },
    {
      "cell_type": "code",
      "source": [
        "# 2 ta massiv yaratib olamiz\n",
        "arr2 = np.random.randn(6)\n",
        "arr3 = np.random.randn(6)"
      ],
      "metadata": {
        "id": "UyRAFqRJkkbG"
      },
      "execution_count": 18,
      "outputs": []
    },
    {
      "cell_type": "code",
      "source": [
        "arr2"
      ],
      "metadata": {
        "colab": {
          "base_uri": "https://localhost:8080/"
        },
        "id": "gx-cQawZpPqR",
        "outputId": "199b99f0-3f02-4218-edd8-5c331267615d"
      },
      "execution_count": 19,
      "outputs": [
        {
          "output_type": "execute_result",
          "data": {
            "text/plain": [
              "array([-0.06287349,  0.82472051, -0.03264978,  0.60437929, -0.77349889,\n",
              "        0.8563972 ])"
            ]
          },
          "metadata": {},
          "execution_count": 19
        }
      ]
    },
    {
      "cell_type": "code",
      "source": [
        "arr3"
      ],
      "metadata": {
        "colab": {
          "base_uri": "https://localhost:8080/"
        },
        "id": "FfJPJXsKpWD8",
        "outputId": "6d541bc9-33c3-4de0-fde4-1d83b18a5370"
      },
      "execution_count": 20,
      "outputs": [
        {
          "output_type": "execute_result",
          "data": {
            "text/plain": [
              "array([ 1.90888255, -0.73108957, -0.87273529, -0.80921877,  0.72102842,\n",
              "        1.46334799])"
            ]
          },
          "metadata": {},
          "execution_count": 20
        }
      ]
    },
    {
      "cell_type": "code",
      "source": [
        "np.add(arr2, arr3) # arr2 va arr3 ning elementlarini mos ravishda qo'shib beradi \n",
        "#shunga o'xshagan method \n",
        "arr2 + arr3"
      ],
      "metadata": {
        "colab": {
          "base_uri": "https://localhost:8080/"
        },
        "id": "Mcvc2qhppWtX",
        "outputId": "84bedebf-a85d-40a5-b604-3c9363cabba9"
      },
      "execution_count": 21,
      "outputs": [
        {
          "output_type": "execute_result",
          "data": {
            "text/plain": [
              "array([ 1.84600906,  0.09363094, -0.90538507, -0.20483948, -0.05247047,\n",
              "        2.31974518])"
            ]
          },
          "metadata": {},
          "execution_count": 21
        }
      ]
    },
    {
      "cell_type": "markdown",
      "source": [
        "`multiply` ikkita massivning elementlarini mos ravishda ko'paytiradi"
      ],
      "metadata": {
        "id": "WmUkvKkjqXYu"
      }
    },
    {
      "cell_type": "code",
      "source": [
        "arr2"
      ],
      "metadata": {
        "colab": {
          "base_uri": "https://localhost:8080/"
        },
        "id": "JJxtlNAKp_7J",
        "outputId": "00b21089-819e-4954-d543-ba9ad489a756"
      },
      "execution_count": 22,
      "outputs": [
        {
          "output_type": "execute_result",
          "data": {
            "text/plain": [
              "array([-0.06287349,  0.82472051, -0.03264978,  0.60437929, -0.77349889,\n",
              "        0.8563972 ])"
            ]
          },
          "metadata": {},
          "execution_count": 22
        }
      ]
    },
    {
      "cell_type": "code",
      "source": [
        "arr3"
      ],
      "metadata": {
        "colab": {
          "base_uri": "https://localhost:8080/"
        },
        "id": "tyYKprT-qxoU",
        "outputId": "fda064e4-7b9d-4058-8386-c65652ff6e86"
      },
      "execution_count": 23,
      "outputs": [
        {
          "output_type": "execute_result",
          "data": {
            "text/plain": [
              "array([ 1.90888255, -0.73108957, -0.87273529, -0.80921877,  0.72102842,\n",
              "        1.46334799])"
            ]
          },
          "metadata": {},
          "execution_count": 23
        }
      ]
    },
    {
      "cell_type": "code",
      "source": [
        "np.multiply(arr2, arr3) # arr2 va arr3 ning mos elemtlarini ko'paytiradi"
      ],
      "metadata": {
        "colab": {
          "base_uri": "https://localhost:8080/"
        },
        "id": "tnG-lHuoqyfN",
        "outputId": "0c031a4e-223e-4120-8338-cc28813ad954"
      },
      "execution_count": 24,
      "outputs": [
        {
          "output_type": "execute_result",
          "data": {
            "text/plain": [
              "array([-0.12001812, -0.60294456,  0.02849462, -0.48907506, -0.55771469,\n",
              "        1.25320711])"
            ]
          },
          "metadata": {},
          "execution_count": 24
        }
      ]
    },
    {
      "cell_type": "code",
      "source": [
        "np.maximum(arr2, arr3) # arr2 va arr3 ni taqqoslab kattasini chiqarib beradi"
      ],
      "metadata": {
        "id": "bsMdV99Nq6h5",
        "colab": {
          "base_uri": "https://localhost:8080/"
        },
        "outputId": "9f681342-9381-4f0e-c5bc-760de66ba8fa"
      },
      "execution_count": 25,
      "outputs": [
        {
          "output_type": "execute_result",
          "data": {
            "text/plain": [
              "array([ 1.90888255,  0.82472051, -0.03264978,  0.60437929,  0.72102842,\n",
              "        1.46334799])"
            ]
          },
          "metadata": {},
          "execution_count": 25
        }
      ]
    },
    {
      "cell_type": "code",
      "source": [],
      "metadata": {
        "id": "ivWOtjUTZ-4I"
      },
      "execution_count": 25,
      "outputs": []
    }
  ]
}