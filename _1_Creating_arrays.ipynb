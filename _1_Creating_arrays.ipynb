{
  "nbformat": 4,
  "nbformat_minor": 0,
  "metadata": {
    "colab": {
      "provenance": [],
      "authorship_tag": "ABX9TyOf8mWFv1RMvifVvkAWidLT",
      "include_colab_link": true
    },
    "kernelspec": {
      "name": "python3",
      "display_name": "Python 3"
    },
    "language_info": {
      "name": "python"
    }
  },
  "cells": [
    {
      "cell_type": "markdown",
      "metadata": {
        "id": "view-in-github",
        "colab_type": "text"
      },
      "source": [
        "<a href=\"https://colab.research.google.com/github/qodirovmuhriddin/Data_Science/blob/main/_1_Creating_arrays.ipynb\" target=\"_parent\"><img src=\"https://colab.research.google.com/assets/colab-badge.svg\" alt=\"Open In Colab\"/></a>"
      ]
    },
    {
      "cell_type": "markdown",
      "source": [
        "# Data Science\n",
        "# Ma`lumotlar tahlili\n",
        "2.1. Numpy kutubxonasi bilan ishlash\n",
        "NUmpy kutubxonasini chaqirib olish "
      ],
      "metadata": {
        "id": "diyq_EZl3_lY"
      }
    },
    {
      "cell_type": "code",
      "execution_count": 1,
      "metadata": {
        "id": "8Nn0MSI83zyG"
      },
      "outputs": [],
      "source": [
        "import numpy as np\n"
      ]
    },
    {
      "cell_type": "markdown",
      "source": [
        "2.1.1. N-O`lchamli massiv(array)larga ishlov berish"
      ],
      "metadata": {
        "id": "8IKm8A_R4vbP"
      }
    },
    {
      "cell_type": "markdown",
      "source": [
        "Numpyda massiv yaratishning eng oson yo`llaridan biri bu array funksiyasi yordamida amalga oshiriladi. Va ushbu funksiya xar qanday turdagi ketma ket ma`lumotlarni qabul qilib, uni yangi numpy arrayga o`girib beradi"
      ],
      "metadata": {
        "id": "HyDWDJf85ZWw"
      }
    },
    {
      "cell_type": "code",
      "source": [
        "Data1 = [5.5 , 7, 9, 2.9] # list\n",
        "arr1 = np.array(Data1) #Array1"
      ],
      "metadata": {
        "id": "dGI4mJeT3_Un"
      },
      "execution_count": 2,
      "outputs": []
    },
    {
      "cell_type": "code",
      "source": [
        "arr1"
      ],
      "metadata": {
        "colab": {
          "base_uri": "https://localhost:8080/"
        },
        "id": "IQfA6va43_ZS",
        "outputId": "09d96536-1542-4a90-e292-b24d842de0a2"
      },
      "execution_count": 3,
      "outputs": [
        {
          "output_type": "execute_result",
          "data": {
            "text/plain": [
              "array([5.5, 7. , 9. , 2.9])"
            ]
          },
          "metadata": {},
          "execution_count": 3
        }
      ]
    },
    {
      "cell_type": "code",
      "source": [
        "Data2 = [3.3 , 5.0 , 6.2 , 9] #tuple\n",
        "arr2 = np.array(Data2) #Array2\n"
      ],
      "metadata": {
        "id": "my4rDomH6xDf"
      },
      "execution_count": 4,
      "outputs": []
    },
    {
      "cell_type": "code",
      "source": [
        "arr2"
      ],
      "metadata": {
        "colab": {
          "base_uri": "https://localhost:8080/"
        },
        "id": "Wx5fuOCD7M8m",
        "outputId": "6a3c243c-a6e3-4229-aabd-7ff1521f986d"
      },
      "execution_count": 5,
      "outputs": [
        {
          "output_type": "execute_result",
          "data": {
            "text/plain": [
              "array([3.3, 5. , 6.2, 9. ])"
            ]
          },
          "metadata": {},
          "execution_count": 5
        }
      ]
    },
    {
      "cell_type": "code",
      "source": [
        "arr2.ndim #arr2 ning o'lchami"
      ],
      "metadata": {
        "colab": {
          "base_uri": "https://localhost:8080/"
        },
        "id": "uB-cT0AJUOhQ",
        "outputId": "9c8856f5-9b09-4e14-8e90-91d881d818a7"
      },
      "execution_count": 6,
      "outputs": [
        {
          "output_type": "execute_result",
          "data": {
            "text/plain": [
              "1"
            ]
          },
          "metadata": {},
          "execution_count": 6
        }
      ]
    },
    {
      "cell_type": "markdown",
      "source": [
        "#Massiv O`lchami"
      ],
      "metadata": {
        "id": "WKU_3wg2TJ5-"
      }
    },
    {
      "cell_type": "markdown",
      "source": [
        " .ndim methodi massiv(array)ni o`lchamini aniqlash mumkun"
      ],
      "metadata": {
        "id": "-RshwkmxT8_a"
      }
    },
    {
      "cell_type": "code",
      "source": [
        "arr1.ndim # array1 ning o`lchami\n",
        "#Bu usul orqali massivni o`lchamini aniqlash mumkin"
      ],
      "metadata": {
        "colab": {
          "base_uri": "https://localhost:8080/"
        },
        "id": "TsfONadmTINW",
        "outputId": "be1ba401-47c8-4f74-fad7-2f65be2c458f"
      },
      "execution_count": 7,
      "outputs": [
        {
          "output_type": "execute_result",
          "data": {
            "text/plain": [
              "1"
            ]
          },
          "metadata": {},
          "execution_count": 7
        }
      ]
    },
    {
      "cell_type": "code",
      "source": [],
      "metadata": {
        "id": "H3Jbx6WLTp43"
      },
      "execution_count": 7,
      "outputs": []
    },
    {
      "cell_type": "markdown",
      "source": [
        "*IKKI VA UNDAN KATTA O`LCHAMLI MASSIVLAR HAQIDA *\n",
        "Biz List ichidagi Listdan turidan foydalanamiz bu ingiliz tilida nested list deyiladi."
      ],
      "metadata": {
        "id": "Vf8RR7zJVHcz"
      }
    },
    {
      "cell_type": "code",
      "source": [
        "data3 = [[1, 2, 3, 4], [5, 6, 7, 8]] # nested list\n",
        "arr3 = np.array(data3) #array3"
      ],
      "metadata": {
        "id": "RiQyQ331UONP"
      },
      "execution_count": 8,
      "outputs": []
    },
    {
      "cell_type": "code",
      "source": [
        "arr3.ndim\n"
      ],
      "metadata": {
        "colab": {
          "base_uri": "https://localhost:8080/"
        },
        "id": "MX7CWrFFUOX7",
        "outputId": "af189a05-9e51-40b2-aa16-14610725a14a"
      },
      "execution_count": 9,
      "outputs": [
        {
          "output_type": "execute_result",
          "data": {
            "text/plain": [
              "2"
            ]
          },
          "metadata": {},
          "execution_count": 9
        }
      ]
    },
    {
      "cell_type": "markdown",
      "source": [
        "*SIZE VA SHAPE METHODLARI*\n",
        "\n",
        "---\n",
        "\n",
        "-Shape methodi massivning qator va ustunlar sonini ko`rsatsa\n",
        "\n",
        "-size methodi esa massivlardagi elementlar sonini namoyon etadi."
      ],
      "metadata": {
        "id": "h2HjcAE_yd6o"
      }
    },
    {
      "cell_type": "code",
      "source": [
        "arr3.shape # qator va ustunlar sonini ko`rsatadi "
      ],
      "metadata": {
        "colab": {
          "base_uri": "https://localhost:8080/"
        },
        "id": "RrGoBCesz15l",
        "outputId": "7aa40d5a-76f1-443c-b178-c9c04e1cbc18"
      },
      "execution_count": 10,
      "outputs": [
        {
          "output_type": "execute_result",
          "data": {
            "text/plain": [
              "(2, 4)"
            ]
          },
          "metadata": {},
          "execution_count": 10
        }
      ]
    },
    {
      "cell_type": "markdown",
      "source": [
        "Bu koddan ma`lumki 2 qator 4 ta ustun bor    "
      ],
      "metadata": {
        "id": "5AMmGFlI0Z-f"
      }
    },
    {
      "cell_type": "markdown",
      "source": [
        "# Size methodi funksiyada to`liq nechta raqam borligini ko`rsatadi."
      ],
      "metadata": {
        "id": "PQbZBId0dExh"
      }
    },
    {
      "cell_type": "code",
      "source": [
        "arr3.size #array3ning elementlar soni"
      ],
      "metadata": {
        "colab": {
          "base_uri": "https://localhost:8080/"
        },
        "id": "k0i3ktNJbzK8",
        "outputId": "c5182594-9ee6-4d50-a7b2-efe609ba7578"
      },
      "execution_count": 11,
      "outputs": [
        {
          "output_type": "execute_result",
          "data": {
            "text/plain": [
              "8"
            ]
          },
          "metadata": {},
          "execution_count": 11
        }
      ]
    },
    {
      "cell_type": "markdown",
      "source": [
        "# N-O'lchamli massivlarni yaratishning boshqa usullari mavjud:\n",
        "\n",
        "-zeros va ones funksiyalari yordamida massivlar yaratish:\n"
      ],
      "metadata": {
        "id": "zVSnshK-drd1"
      }
    },
    {
      "cell_type": "code",
      "source": [
        "arr4 = np.zeros((2,4)) # barcha elementlari 0 ga teng bo`lgan (2, 4) massivlarni yaratadi.\n",
        "arr4"
      ],
      "metadata": {
        "colab": {
          "base_uri": "https://localhost:8080/"
        },
        "id": "kzajakU0dmRI",
        "outputId": "7607c9dd-2f7c-4785-afb8-be8c83ab00eb"
      },
      "execution_count": 12,
      "outputs": [
        {
          "output_type": "execute_result",
          "data": {
            "text/plain": [
              "array([[0., 0., 0., 0.],\n",
              "       [0., 0., 0., 0.]])"
            ]
          },
          "metadata": {},
          "execution_count": 12
        }
      ]
    },
    {
      "cell_type": "code",
      "source": [
        "arr5 =np.ones((2,4)) # barcha elementlari 1 ga teng bo'lgan (2, 4) massivlarni yaratadi\n",
        "arr5\n"
      ],
      "metadata": {
        "colab": {
          "base_uri": "https://localhost:8080/"
        },
        "id": "KcgFBuXWfXJZ",
        "outputId": "46176557-bf92-4977-f1e5-7df2cdd7e9b7"
      },
      "execution_count": 14,
      "outputs": [
        {
          "output_type": "execute_result",
          "data": {
            "text/plain": [
              "array([[1., 1., 1., 1.],\n",
              "       [1., 1., 1., 1.]])"
            ]
          },
          "metadata": {},
          "execution_count": 14
        }
      ]
    },
    {
      "cell_type": "markdown",
      "source": [
        "arrange funksiyasi yordamida yaratish.\n"
      ],
      "metadata": {
        "id": "SN-kZifvglvC"
      }
    },
    {
      "cell_type": "code",
      "source": [
        "arr6 = np.arange(3, 30, 5)  #3 dan 30 gacha bo`lgan qiymatlarni 5 qadam bilan massivlarga joylab beradi.\n",
        "arr6"
      ],
      "metadata": {
        "colab": {
          "base_uri": "https://localhost:8080/"
        },
        "id": "VfMszZUmfw6s",
        "outputId": "aee3933e-0d3f-4567-ad5f-467764f8ff7a"
      },
      "execution_count": 16,
      "outputs": [
        {
          "output_type": "execute_result",
          "data": {
            "text/plain": [
              "array([ 3,  8, 13, 18, 23, 28])"
            ]
          },
          "metadata": {},
          "execution_count": 16
        }
      ]
    },
    {
      "cell_type": "code",
      "source": [
        "arr7 = np.arange(20) # 0 dan 20 gacha bo`lgan qiymatlarni 1 qadam bilan massivlarga joylab beradi."
      ],
      "metadata": {
        "id": "9xRB7dSwieJU"
      },
      "execution_count": null,
      "outputs": []
    }
  ]
}