{
  "nbformat": 4,
  "nbformat_minor": 0,
  "metadata": {
    "colab": {
      "provenance": [],
      "authorship_tag": "ABX9TyOWyylHrqLhVeR0cEfA2cDS",
      "include_colab_link": true
    },
    "kernelspec": {
      "name": "python3",
      "display_name": "Python 3"
    },
    "language_info": {
      "name": "python"
    }
  },
  "cells": [
    {
      "cell_type": "markdown",
      "metadata": {
        "id": "view-in-github",
        "colab_type": "text"
      },
      "source": [
        "<a href=\"https://colab.research.google.com/github/qodirovmuhriddin/Data_Science/blob/main/_5_Transposing%26Swapping.ipynb\" target=\"_parent\"><img src=\"https://colab.research.google.com/assets/colab-badge.svg\" alt=\"Open In Colab\"/></a>"
      ]
    },
    {
      "cell_type": "markdown",
      "source": [
        "#**Data Science praktikumi**"
      ],
      "metadata": {
        "id": "IaZ9FY9sOYS7"
      }
    },
    {
      "cell_type": "code",
      "execution_count": 1,
      "metadata": {
        "id": "VB9kloEWOLVC"
      },
      "outputs": [],
      "source": [
        "import numpy as np"
      ]
    },
    {
      "cell_type": "markdown",
      "source": [
        "`reshape` methodi"
      ],
      "metadata": {
        "id": "nVJSh-ssPdbA"
      }
    },
    {
      "cell_type": "code",
      "source": [
        "A=np.arange(6).reshape(3, 2)\n",
        "A"
      ],
      "metadata": {
        "colab": {
          "base_uri": "https://localhost:8080/"
        },
        "id": "_bwow9lYQfw-",
        "outputId": "5b107b50-4407-4f40-948e-5a9ad029eec8"
      },
      "execution_count": 14,
      "outputs": [
        {
          "output_type": "execute_result",
          "data": {
            "text/plain": [
              "array([[0, 1],\n",
              "       [2, 3],\n",
              "       [4, 5]])"
            ]
          },
          "metadata": {},
          "execution_count": 14
        }
      ]
    },
    {
      "cell_type": "markdown",
      "source": [
        "`Transpose`"
      ],
      "metadata": {
        "id": "QHUUz3xwR2_R"
      }
    },
    {
      "cell_type": "code",
      "source": [
        "A.T # A massivning Transpose ko'rinishi"
      ],
      "metadata": {
        "colab": {
          "base_uri": "https://localhost:8080/"
        },
        "id": "u0GQMGnHQ9ii",
        "outputId": "f6c77b6c-7422-4bb9-ebd8-c9a79a22b313"
      },
      "execution_count": 15,
      "outputs": [
        {
          "output_type": "execute_result",
          "data": {
            "text/plain": [
              "array([[0, 2, 4],\n",
              "       [1, 3, 5]])"
            ]
          },
          "metadata": {},
          "execution_count": 15
        }
      ]
    },
    {
      "cell_type": "markdown",
      "source": [
        "`Swaping axes`"
      ],
      "metadata": {
        "id": "BLr6fN8lR8VG"
      }
    },
    {
      "cell_type": "code",
      "source": [
        "A.swapaxes(1, 0)  # A massivning Transpose ko'rinishi"
      ],
      "metadata": {
        "colab": {
          "base_uri": "https://localhost:8080/"
        },
        "id": "hwErhDdFS6NS",
        "outputId": "ee06ad0e-31fd-4db7-8729-a19b6a5b25eb"
      },
      "execution_count": 21,
      "outputs": [
        {
          "output_type": "execute_result",
          "data": {
            "text/plain": [
              "array([[0, 2, 4],\n",
              "       [1, 3, 5]])"
            ]
          },
          "metadata": {},
          "execution_count": 21
        }
      ]
    },
    {
      "cell_type": "markdown",
      "source": [
        "`Transpose`ning ishlatilishiga bir misol AA^T"
      ],
      "metadata": {
        "id": "h2EhPWegTRoB"
      }
    },
    {
      "cell_type": "code",
      "source": [
        "np.dot(A, A.T)# AA^T hosil bo'lgan massiv"
      ],
      "metadata": {
        "colab": {
          "base_uri": "https://localhost:8080/"
        },
        "id": "hE87fOBYS-r7",
        "outputId": "59139959-92c4-4a2e-d358-600e383469ce"
      },
      "execution_count": 22,
      "outputs": [
        {
          "output_type": "execute_result",
          "data": {
            "text/plain": [
              "array([[ 1,  3,  5],\n",
              "       [ 3, 13, 23],\n",
              "       [ 5, 23, 41]])"
            ]
          },
          "metadata": {},
          "execution_count": 22
        }
      ]
    }
  ]
}